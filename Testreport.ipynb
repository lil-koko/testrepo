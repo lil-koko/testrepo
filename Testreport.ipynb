{
 "cells": [
  {
   "cell_type": "markdown",
   "id": "5df390b4",
   "metadata": {},
   "source": [
    "<h1>My Jupyter Notebook on IBM Watson Studio<h1>"
   ]
  },
  {
   "cell_type": "markdown",
   "id": "4074a550",
   "metadata": {},
   "source": [
    "**Noel John**\n",
    "<br>\n",
    "Professional Sleeper"
   ]
  },
  {
   "cell_type": "markdown",
   "id": "fc7350f7",
   "metadata": {},
   "source": [
    "*I want to be a professional sleeper because I love sleep.*"
   ]
  },
  {
   "cell_type": "markdown",
   "id": "713d49d4",
   "metadata": {},
   "source": [
    "<h3>My code will add 420 with 69.<h3>"
   ]
  },
  {
   "cell_type": "code",
   "execution_count": 3,
   "id": "2ba9dbbc",
   "metadata": {},
   "outputs": [
    {
     "data": {
      "text/plain": [
       "489"
      ]
     },
     "execution_count": 3,
     "metadata": {},
     "output_type": "execute_result"
    }
   ],
   "source": [
    "420+69"
   ]
  },
  {
   "cell_type": "markdown",
   "id": "7497ea48",
   "metadata": {},
   "source": [
    "    Bullet list\n",
    "- list 1\n",
    "- list 2\n",
    "- list 3  \n",
    "Numbered list\n",
    "1. list 1\n",
    "2. list 2\n",
    "3. list 3  \n",
    "Srtikethrough  \n",
    "~~strikethrough example~~\n",
    "\n",
    "\n"
   ]
  }
 ],
 "metadata": {
  "kernelspec": {
   "display_name": "Python 3 (ipykernel)",
   "language": "python",
   "name": "python3"
  },
  "language_info": {
   "codemirror_mode": {
    "name": "ipython",
    "version": 3
   },
   "file_extension": ".py",
   "mimetype": "text/x-python",
   "name": "python",
   "nbconvert_exporter": "python",
   "pygments_lexer": "ipython3",
   "version": "3.9.7"
  }
 },
 "nbformat": 4,
 "nbformat_minor": 5
}
